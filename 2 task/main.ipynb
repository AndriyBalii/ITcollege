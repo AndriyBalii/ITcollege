{
 "cells": [
  {
   "cell_type": "code",
   "execution_count": 4,
   "metadata": {},
   "outputs": [
    {
     "name": "stdout",
     "output_type": "stream",
     "text": [
      ">*<>*<>*<>*<>*<>*<>*<>*<>*<>*<>*<>*<>*<>*<>*<>*<>*<>*<>*<>*<\n",
      "    This is object: <main.MyName object at 0x0000020D78F33A90> \n",
      "    This is object attribute: Bohdan / 5\n",
      "    This is <class 'property'>: My name is Bohdan / Bohdan@itcollege.lviv.ua\n",
      "    This is <class 'method'> call: Bohdan@itcollege.lviv.ua\n",
      "    This is static <class 'function'> with defaults: You say: Hello to everyone! \n",
      "    This is class variable <class 'int'>: from class 8 / from object 8\n",
      "    <*><*><*><*><*><*><*><*><*><*><*><*><*><*><*><*><*><*><*><*>\n",
      ">*<>*<>*<>*<>*<>*<>*<>*<>*<>*<>*<>*<>*<>*<>*<>*<>*<>*<>*<>*<\n",
      "    This is object: <main.MyName object at 0x0000020D78F32CD0> \n",
      "    This is object attribute: Marta / 6\n",
      "    This is <class 'property'>: My name is Marta / Marta@itcollege.lviv.ua\n",
      "    This is <class 'method'> call: Marta@itcollege.lviv.ua\n",
      "    This is static <class 'function'> with defaults: You say: Hello to everyone! \n",
      "    This is class variable <class 'int'>: from class 8 / from object 8\n",
      "    <*><*><*><*><*><*><*><*><*><*><*><*><*><*><*><*><*><*><*><*>\n",
      ">*<>*<>*<>*<>*<>*<>*<>*<>*<>*<>*<>*<>*<>*<>*<>*<>*<>*<>*<>*<\n",
      "    This is object: <main.MyName object at 0x0000020D78929A10> \n",
      "    This is object attribute: Anonymous / 8\n",
      "    This is <class 'property'>: My name is Anonymous / Anonymous@itcollege.lviv.ua\n",
      "    This is <class 'method'> call: Anonymous@itcollege.lviv.ua\n",
      "    This is static <class 'function'> with defaults: You say: Hello to everyone! \n",
      "    This is class variable <class 'int'>: from class 8 / from object 8\n",
      "    <*><*><*><*><*><*><*><*><*><*><*><*><*><*><*><*><*><*><*><*>\n",
      "We are done. We created 8 names!\n"
     ]
    }
   ],
   "source": [
    "from main import MyName\n",
    "names = (\"Bohdan\", \"Marta\", None)\n",
    "all_names = {name: MyName(name) for name in names}\n",
    "\n",
    "# Вивід інформації про створені об'єкти\n",
    "for name, me in all_names.items():\n",
    "    print(f\"\"\"{\">*<\"*20}\n",
    "    This is object: {me} \n",
    "    This is object attribute: {me.name} / {me.my_id}\n",
    "    This is {type(MyName.whoami)}: {me.whoami} / {me.my_email}\n",
    "    This is {type(me.create_email)} call: {me.create_email()}\n",
    "    This is static {type(MyName.say_hello)} with defaults: {me.say_hello()} \n",
    "    This is class variable {type(MyName.total_names)}: from class {MyName.total_names} / from object {me.total_names}\n",
    "    {\"<*>\"*20}\"\"\")\n",
    "\n",
    "# Вивід кількості створених імен\n",
    "print(f\"We are done. We created {MyName.total_names} names!\")"
   ]
  }
 ],
 "metadata": {
  "kernelspec": {
   "display_name": "Python 3",
   "language": "python",
   "name": "python3"
  },
  "language_info": {
   "codemirror_mode": {
    "name": "ipython",
    "version": 3
   },
   "file_extension": ".py",
   "mimetype": "text/x-python",
   "name": "python",
   "nbconvert_exporter": "python",
   "pygments_lexer": "ipython3",
   "version": "3.11.2"
  }
 },
 "nbformat": 4,
 "nbformat_minor": 2
}
